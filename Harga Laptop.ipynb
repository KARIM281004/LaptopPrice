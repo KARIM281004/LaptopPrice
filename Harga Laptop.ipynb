{
 "cells": [
  {
   "cell_type": "code",
   "execution_count": 5,
   "metadata": {},
   "outputs": [],
   "source": [
    "import pandas as pd\n",
    "import numpy as np\n",
    "import streamlit as st\n",
    "import joblib\n",
    "from sklearn.model_selection import train_test_split\n",
    "from sklearn.linear_model import LinearRegression\n",
    "from sklearn.preprocessing import StandardScaler, LabelEncoder\n",
    "import seaborn as sns\n",
    "import matplotlib.pyplot as plt"
   ]
  },
  {
   "cell_type": "markdown",
   "metadata": {},
   "source": [
    "Mengimpor berbagai library yang diperlukan untuk data processing, machine learning, visualisasi, dan pembuatan aplikasi web"
   ]
  },
  {
   "cell_type": "code",
   "execution_count": null,
   "metadata": {},
   "outputs": [],
   "source": [
    "st.title(\"Aplikasi Prediksi Harga Laptop\")"
   ]
  },
  {
   "cell_type": "markdown",
   "metadata": {},
   "source": [
    "Menambahkan judul aplikasi web"
   ]
  },
  {
   "cell_type": "code",
   "execution_count": null,
   "metadata": {},
   "outputs": [],
   "source": [
    "menu = st.sidebar.selectbox(\"Menu\", [\"Overview\", Data Visualization\", \"Prediction\"])"
   ]
  },
  {
   "cell_type": "markdown",
   "metadata": {},
   "source": [
    "Menambahkan sidebar dengan opsi menu untuk memilih antara Overview, Data Visualization, atau Prediction"
   ]
  },
  {
   "cell_type": "code",
   "execution_count": null,
   "metadata": {},
   "outputs": [],
   "source": [
    "@st.cache_data\n",
    "def load_data():\n",
    "    df = pd.read_csv(\"LaptopPrice.csv\")\n",
    "    return df\n",
    "\n",
    "df = load_data()"
   ]
  },
  {
   "cell_type": "markdown",
   "metadata": {},
   "source": [
    "Fungsi load_data digunakan untuk memuat dataset dari file CSV dan menyimpannya di cache untuk meningkatkan kinerja"
   ]
  },
  {
   "cell_type": "code",
   "execution_count": null,
   "metadata": {},
   "outputs": [],
   "source": [
    "if menu == \"Overview\":\n",
    "    st.subheader(\"Gambaran Dataset\")\n",
    "    st.write(f\"Total baris dalam dataset: {df.shape[0]}\")\n",
    "    st.dataframe(df)\n",
    "    st.write(\"Shape dari dataset:\", df.shape)\n",
    "    st.write(\"Informasi Kolom:\")\n",
    "    st.write(df.info())\n",
    "    st.write(\"Nilai yang hilang dalam dataset:\")\n",
    "    st.write(df.isnull().sum())"
   ]
  },
  {
   "cell_type": "markdown",
   "metadata": {},
   "source": [
    "Menampilkan gambaran umum dataset, termasuk jumlah baris, kolom, informasi kolom, dan jumlah nilai yang hilang"
   ]
  },
  {
   "cell_type": "code",
   "execution_count": null,
   "metadata": {},
   "outputs": [],
   "source": [
    "elif menu == \"Data Visualization\":\n",
    "    st.subheader(\"Visualisasi Data\")\n",
    "    x_col = st.selectbox(\"Pilih kolom X-axis\", df.columns)\n",
    "    y_col = st.selectbox(\"Pilih kolom Y-axis\", df.columns)\n",
    "    plot_type = st.selectbox(\"Pilih jenis plot\", [\"Barplot\", \"Lineplot\", \"Boxplot\", \"Scatterplot\", \"Histogram\"])\n",
    "    fig, ax = plt.subplots()\n",
    "    if plot_type == \"Barplot\":\n",
    "        sns.barplot(data=df, x=x_col, y=y_col, ax=ax)\n",
    "        explanation = ...\n",
    "    elif plot_type == \"Lineplot\":\n",
    "        sns.lineplot(data=df, x=x_col, y=y_col, ax=ax)\n",
    "        explanation = ...\n",
    "    elif plot_type == \"Boxplot\":\n",
    "        sns.boxplot(data=df, x=x_col, y=y_col, ax=ax)\n",
    "        explanation = ...\n",
    "    elif plot_type == \"Scatterplot\":\n",
    "        sns.scatterplot(data=df, x=x_col, y=y_col, ax=ax)\n",
    "        explanation = ...\n",
    "    elif plot_type == \"Histogram\":\n",
    "        sns.histplot(data=df, x=x_col, ax=ax)\n",
    "        explanation = ...\n",
    "    st.pyplot(fig)\n",
    "    st.write(explanation)\n",
    "    st.write(further_analysis)"
   ]
  },
  {
   "cell_type": "markdown",
   "metadata": {},
   "source": [
    "Menampilkan berbagai opsi visualisasi data berdasarkan pilihan pengguna, termasuk Barplot, Lineplot, Boxplot, Scatterplot, dan Histogram. Penjelasan lebih lanjut mengenai analisis grafik juga ditampilkan"
   ]
  },
  {
   "cell_type": "code",
   "execution_count": null,
   "metadata": {},
   "outputs": [],
   "source": [
    "elif menu == \"Prediction\":\n",
    "    st.subheader(\"Prediksi Harga Laptop\")\n",
    "    numeric_cols = ['Processor_Speed', 'RAM_Size', 'Storage_Capacity', 'Screen_Size', 'Weight']\n",
    "    target_col = 'Price'\n",
    "    for column in df.columns:\n",
    "        if df[column].dtype == 'object':\n",
    "            le = LabelEncoder()\n",
    "            df[column] = le.fit_transform(df[column])\n",
    "    X = df[numeric_cols]\n",
    "    y = df[target_col]\n",
    "    X_train, X_test, y_train, y_test = train_test_split(X, y, test_size=0.2, random_state=42)\n",
    "    scaler = StandardScaler()\n",
    "    X_train_scaled = scaler.fit_transform(X_train)\n",
    "    X_test_scaled = scaler.transform(X_test)\n",
    "    model = LinearRegression()\n",
    "    model.fit(X_train_scaled, y_train)\n",
    "    if 'laptop_price_model.sav' not in st.session_state:\n",
    "        joblib.dump(model, \"laptop_price_model.sav\")\n",
    "        joblib.dump(scaler, \"scaler.sav\")\n",
    "        st.session_state['laptop_price_model.sav'] = True\n",
    "        st.session_state['scaler.sav'] = True\n",
    "        st.write(\"Model dan scaler disimpan!\")\n",
    "    st.write(\"Masukkan spesifikasi laptop:\")\n",
    "    processor_speed = st.number_input(\"Kecepatan Prosesor (GHz)\", min_value=1.0, max_value=5.0, value=2.5, step=0.1)\n",
    "    ram_size = st.number_input(\"Ukuran RAM (GB)\", min_value=2, max_value=64, value=8, step=2)\n",
    "    storage_capacity = st.number_input(\"Kapasitas Penyimpanan (GB)\", min_value=128, max_value=2048, value=512, step=128)\n",
    "    screen_size = st.number_input(\"Ukuran Layar (inci)\", min_value=10.0, max_value=20.0, value=15.6, step=0.1)\n",
    "    weight = st.number_input(\"Berat (kg)\", min_value=0.5, max_value=5.0, value=2.0, step=0.1)\n",
    "    model = joblib.load(\"laptop_price_model.sav\")\n",
    "    scaler = joblib.load(\"scaler.sav\")\n",
    "    if st.button(\"Prediksi Harga\"):\n",
    "        user_input = scaler.transform([[processor_speed, ram_size, storage_capacity, screen_size, weight]])\n",
    "        predicted_price = model.predict(user_input)\n",
    "        st.write(f\"Prediksi Harga Laptop: ${predicted_price[0]:,.2f}\")\n",
    "    r_squared = model.score(X_test_scaled, y_test)\n",
    "    st.write(f\"R-squared Model: {r_squared:.2f}\")"
   ]
  },
  {
   "cell_type": "markdown",
   "metadata": {},
   "source": [
    "Prediksi Harga Laptop : Menampilkan fitur untuk prediksi harga laptop berdasarkan input pengguna.\n",
    "\n",
    "Pengkodean Kolom Kategorikal : Menggunakan LabelEncoder untuk mengkodekan kolom kategorikal menjadi angka.\n",
    "\n",
    "Pemrosesan Data : Membagi data menjadi data latih dan data uji, serta melakukan skala fitur.\n",
    "\n",
    "Pelatihan Model : Melatih model regresi linear menggunakan data latih yang telah diskalakan.\n",
    "\n",
    "Simpan Model dan Scaler : Menyimpan model dan scaler ke file jika belum ada.\n",
    "\n",
    "Input Pengguna : Meminta input spesifikasi laptop dari pengguna dan melakukan prediksi harga berdasarkan input tersebut.\n",
    "\n",
    "Menampilkan R-squared : Menampilkan nilai R-squared model."
   ]
  },
  {
   "cell_type": "markdown",
   "metadata": {},
   "source": [
    "Aplikasi ini memungkinkan pengguna untuk melihat gambaran umum data, melakukan visualisasi data, dan memprediksi harga laptop berdasarkan spesifikasi yang diberikan."
   ]
  }
 ],
 "metadata": {
  "kernelspec": {
   "display_name": ".venv",
   "language": "python",
   "name": "python3"
  },
  "language_info": {
   "codemirror_mode": {
    "name": "ipython",
    "version": 3
   },
   "file_extension": ".py",
   "mimetype": "text/x-python",
   "name": "python",
   "nbconvert_exporter": "python",
   "pygments_lexer": "ipython3",
   "version": "3.13.0"
  }
 },
 "nbformat": 4,
 "nbformat_minor": 2
}
